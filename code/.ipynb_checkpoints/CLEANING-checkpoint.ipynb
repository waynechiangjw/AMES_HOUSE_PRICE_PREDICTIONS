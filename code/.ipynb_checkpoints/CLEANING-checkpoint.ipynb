{
 "cells": [
  {
   "cell_type": "markdown",
   "metadata": {},
   "source": [
    "# EXECUTIVE SUMMARY"
   ]
  },
  {
   "cell_type": "markdown",
   "metadata": {},
   "source": [
    "Partnering up with the City of Ames, we analyse homes sold between 2006 to 2010. Through exploratory data analysis, we have found several outliers in some of the features and would have been excluded from our model to increase the models accuracy. \n",
    "\n",
    "Pandas,Sklearn and Statemodels are some of the tools that has been used in the exploratory data analysis and model predictions and derive at coefficients for each of the feature to explain their impact on prices. During the exploration of the data, we encountered missing values that had to be dealt with. We have ddecied to most replace missing values with 0 or by replacing them with mean and medians or other forms of inferential data imputing methods. We also converted some of the data into numerical form and one hot encoded them, to aid in the modeling process. \n",
    "\n",
    "We used a total of 4 models(linear regression, Ridge, Lasso and ElasticNet), a recursive feature elimination was done to retreive the best 30 features that would predict the house prices. We use R2 and Square Root mean errors to compare the performance of model to select the best performer. We then used that best model type to make prediction on our test dataset. "
   ]
  },
  {
   "cell_type": "markdown",
   "metadata": {},
   "source": [
    "# PROBLEM STATEMENT"
   ]
  },
  {
   "cell_type": "markdown",
   "metadata": {},
   "source": [
    "To find out what home sellers could do to increase the prices of their houses and for homebuyers to ensure that the houses are appropriately priced."
   ]
  },
  {
   "cell_type": "code",
   "execution_count": 3,
   "metadata": {},
   "outputs": [],
   "source": [
    "#imports\n",
    "# standard imports\n",
    "import pandas as pd\n",
    "import numpy as np\n",
    "import matplotlib.pyplot as plt\n",
    "import seaborn as sns\n",
    "%matplotlib inline"
   ]
  },
  {
   "cell_type": "code",
   "execution_count": 7,
   "metadata": {},
   "outputs": [],
   "source": [
    "#reading csv\n",
    "test=pd.read_csv(\"../datasets/test.csv\")\n",
    "train=pd.read_csv(\"../datasets/train.csv\")\n"
   ]
  },
  {
   "cell_type": "markdown",
   "metadata": {},
   "source": [
    "# Cleaning Train dataset"
   ]
  },
  {
   "cell_type": "code",
   "execution_count": 8,
   "metadata": {},
   "outputs": [
    {
     "data": {
      "text/html": [
       "<div>\n",
       "<style scoped>\n",
       "    .dataframe tbody tr th:only-of-type {\n",
       "        vertical-align: middle;\n",
       "    }\n",
       "\n",
       "    .dataframe tbody tr th {\n",
       "        vertical-align: top;\n",
       "    }\n",
       "\n",
       "    .dataframe thead th {\n",
       "        text-align: right;\n",
       "    }\n",
       "</style>\n",
       "<table border=\"1\" class=\"dataframe\">\n",
       "  <thead>\n",
       "    <tr style=\"text-align: right;\">\n",
       "      <th></th>\n",
       "      <th>Id</th>\n",
       "      <th>PID</th>\n",
       "      <th>MS SubClass</th>\n",
       "      <th>MS Zoning</th>\n",
       "      <th>Lot Frontage</th>\n",
       "      <th>Lot Area</th>\n",
       "      <th>Street</th>\n",
       "      <th>Alley</th>\n",
       "      <th>Lot Shape</th>\n",
       "      <th>Land Contour</th>\n",
       "      <th>...</th>\n",
       "      <th>Screen Porch</th>\n",
       "      <th>Pool Area</th>\n",
       "      <th>Pool QC</th>\n",
       "      <th>Fence</th>\n",
       "      <th>Misc Feature</th>\n",
       "      <th>Misc Val</th>\n",
       "      <th>Mo Sold</th>\n",
       "      <th>Yr Sold</th>\n",
       "      <th>Sale Type</th>\n",
       "      <th>SalePrice</th>\n",
       "    </tr>\n",
       "  </thead>\n",
       "  <tbody>\n",
       "    <tr>\n",
       "      <th>0</th>\n",
       "      <td>109</td>\n",
       "      <td>533352170</td>\n",
       "      <td>60</td>\n",
       "      <td>RL</td>\n",
       "      <td>NaN</td>\n",
       "      <td>13517</td>\n",
       "      <td>Pave</td>\n",
       "      <td>NaN</td>\n",
       "      <td>IR1</td>\n",
       "      <td>Lvl</td>\n",
       "      <td>...</td>\n",
       "      <td>0</td>\n",
       "      <td>0</td>\n",
       "      <td>NaN</td>\n",
       "      <td>NaN</td>\n",
       "      <td>NaN</td>\n",
       "      <td>0</td>\n",
       "      <td>3</td>\n",
       "      <td>2010</td>\n",
       "      <td>WD</td>\n",
       "      <td>130500</td>\n",
       "    </tr>\n",
       "    <tr>\n",
       "      <th>1</th>\n",
       "      <td>544</td>\n",
       "      <td>531379050</td>\n",
       "      <td>60</td>\n",
       "      <td>RL</td>\n",
       "      <td>43.0</td>\n",
       "      <td>11492</td>\n",
       "      <td>Pave</td>\n",
       "      <td>NaN</td>\n",
       "      <td>IR1</td>\n",
       "      <td>Lvl</td>\n",
       "      <td>...</td>\n",
       "      <td>0</td>\n",
       "      <td>0</td>\n",
       "      <td>NaN</td>\n",
       "      <td>NaN</td>\n",
       "      <td>NaN</td>\n",
       "      <td>0</td>\n",
       "      <td>4</td>\n",
       "      <td>2009</td>\n",
       "      <td>WD</td>\n",
       "      <td>220000</td>\n",
       "    </tr>\n",
       "    <tr>\n",
       "      <th>2</th>\n",
       "      <td>153</td>\n",
       "      <td>535304180</td>\n",
       "      <td>20</td>\n",
       "      <td>RL</td>\n",
       "      <td>68.0</td>\n",
       "      <td>7922</td>\n",
       "      <td>Pave</td>\n",
       "      <td>NaN</td>\n",
       "      <td>Reg</td>\n",
       "      <td>Lvl</td>\n",
       "      <td>...</td>\n",
       "      <td>0</td>\n",
       "      <td>0</td>\n",
       "      <td>NaN</td>\n",
       "      <td>NaN</td>\n",
       "      <td>NaN</td>\n",
       "      <td>0</td>\n",
       "      <td>1</td>\n",
       "      <td>2010</td>\n",
       "      <td>WD</td>\n",
       "      <td>109000</td>\n",
       "    </tr>\n",
       "    <tr>\n",
       "      <th>3</th>\n",
       "      <td>318</td>\n",
       "      <td>916386060</td>\n",
       "      <td>60</td>\n",
       "      <td>RL</td>\n",
       "      <td>73.0</td>\n",
       "      <td>9802</td>\n",
       "      <td>Pave</td>\n",
       "      <td>NaN</td>\n",
       "      <td>Reg</td>\n",
       "      <td>Lvl</td>\n",
       "      <td>...</td>\n",
       "      <td>0</td>\n",
       "      <td>0</td>\n",
       "      <td>NaN</td>\n",
       "      <td>NaN</td>\n",
       "      <td>NaN</td>\n",
       "      <td>0</td>\n",
       "      <td>4</td>\n",
       "      <td>2010</td>\n",
       "      <td>WD</td>\n",
       "      <td>174000</td>\n",
       "    </tr>\n",
       "    <tr>\n",
       "      <th>4</th>\n",
       "      <td>255</td>\n",
       "      <td>906425045</td>\n",
       "      <td>50</td>\n",
       "      <td>RL</td>\n",
       "      <td>82.0</td>\n",
       "      <td>14235</td>\n",
       "      <td>Pave</td>\n",
       "      <td>NaN</td>\n",
       "      <td>IR1</td>\n",
       "      <td>Lvl</td>\n",
       "      <td>...</td>\n",
       "      <td>0</td>\n",
       "      <td>0</td>\n",
       "      <td>NaN</td>\n",
       "      <td>NaN</td>\n",
       "      <td>NaN</td>\n",
       "      <td>0</td>\n",
       "      <td>3</td>\n",
       "      <td>2010</td>\n",
       "      <td>WD</td>\n",
       "      <td>138500</td>\n",
       "    </tr>\n",
       "  </tbody>\n",
       "</table>\n",
       "<p>5 rows × 81 columns</p>\n",
       "</div>"
      ],
      "text/plain": [
       "    Id        PID  MS SubClass MS Zoning  Lot Frontage  Lot Area Street Alley  \\\n",
       "0  109  533352170           60        RL           NaN     13517   Pave   NaN   \n",
       "1  544  531379050           60        RL          43.0     11492   Pave   NaN   \n",
       "2  153  535304180           20        RL          68.0      7922   Pave   NaN   \n",
       "3  318  916386060           60        RL          73.0      9802   Pave   NaN   \n",
       "4  255  906425045           50        RL          82.0     14235   Pave   NaN   \n",
       "\n",
       "  Lot Shape Land Contour  ... Screen Porch Pool Area Pool QC Fence  \\\n",
       "0       IR1          Lvl  ...            0         0     NaN   NaN   \n",
       "1       IR1          Lvl  ...            0         0     NaN   NaN   \n",
       "2       Reg          Lvl  ...            0         0     NaN   NaN   \n",
       "3       Reg          Lvl  ...            0         0     NaN   NaN   \n",
       "4       IR1          Lvl  ...            0         0     NaN   NaN   \n",
       "\n",
       "  Misc Feature Misc Val Mo Sold Yr Sold  Sale Type  SalePrice  \n",
       "0          NaN        0       3    2010        WD      130500  \n",
       "1          NaN        0       4    2009        WD      220000  \n",
       "2          NaN        0       1    2010        WD      109000  \n",
       "3          NaN        0       4    2010        WD      174000  \n",
       "4          NaN        0       3    2010        WD      138500  \n",
       "\n",
       "[5 rows x 81 columns]"
      ]
     },
     "execution_count": 8,
     "metadata": {},
     "output_type": "execute_result"
    }
   ],
   "source": [
    "#exploring train \n",
    "train.head()"
   ]
  },
  {
   "cell_type": "code",
   "execution_count": null,
   "metadata": {},
   "outputs": [],
   "source": [
    "train.shape"
   ]
  },
  {
   "cell_type": "code",
   "execution_count": null,
   "metadata": {},
   "outputs": [],
   "source": [
    "train.dtypes"
   ]
  },
  {
   "cell_type": "code",
   "execution_count": null,
   "metadata": {},
   "outputs": [],
   "source": [
    "train.columns\n"
   ]
  },
  {
   "cell_type": "code",
   "execution_count": null,
   "metadata": {
    "scrolled": false
   },
   "outputs": [],
   "source": [
    "# checking for null values in train \n",
    "train.isnull().sum().sort_values().tail(30)\n",
    "\n"
   ]
  },
  {
   "cell_type": "code",
   "execution_count": null,
   "metadata": {},
   "outputs": [],
   "source": [
    "# renaming columns\n",
    "train.columns= train.columns.str.replace(\" \",\"_\").str.lower()    "
   ]
  },
  {
   "cell_type": "code",
   "execution_count": null,
   "metadata": {},
   "outputs": [],
   "source": [
    "train.columns"
   ]
  },
  {
   "cell_type": "code",
   "execution_count": null,
   "metadata": {},
   "outputs": [],
   "source": [
    "# function that returns a list from a dataframes columns.\n",
    "def get_list(df,string):\n",
    "    mask=df.columns.str.contains(string)\n",
    "    return list(df.columns[mask])"
   ]
  },
  {
   "cell_type": "code",
   "execution_count": null,
   "metadata": {},
   "outputs": [],
   "source": []
  },
  {
   "cell_type": "markdown",
   "metadata": {},
   "source": [
    "# Cleaning all basement related variables"
   ]
  },
  {
   "cell_type": "code",
   "execution_count": null,
   "metadata": {},
   "outputs": [],
   "source": [
    "def check_fill(df,ref_col,comparing_col,filler):\n",
    "    \n",
    "    '''Checking columns with NaN values against a reference column where \n",
    "    NaN values means 0 or none and filling these columns'''\n",
    "    \n",
    "    \n",
    "    num_of_null=df.loc[df[comparing_col].isnull(),:].shape[0]\n",
    "    check_num_of_null=df.loc[df[comparing_col].isnull(),:][ref_col].shape[0]\n",
    "    if check_num_of_null == num_of_null:\n",
    "        df[comparing_col].fillna(filler,inplace=True)\n",
    "        return print(\"NaN values for\", str(comparing_col), \"has been filled with\",str(filler))\n",
    "    else:\n",
    "        return print(\"NaN for\", \"comparing_col\", \"values do not match\")"
   ]
  },
  {
   "cell_type": "code",
   "execution_count": null,
   "metadata": {},
   "outputs": [],
   "source": [
    "#list of string bsmt cols where NaN values means no basement\n",
    "bsmt_string_list=[\"bsmt_exposure\",\"bsmtfin_type_2\",\"bsmtfin_type_1\",\"bsmt_qual\",\"bsmt_cond\"]"
   ]
  },
  {
   "cell_type": "code",
   "execution_count": null,
   "metadata": {},
   "outputs": [],
   "source": [
    "# identifying the row that casues bsmt_exposure to have 3 more null values then \n",
    "# the rest of basements where NaN values mean no basement.\n",
    "train.loc[(train[\"bsmt_exposure\"].isnull())\n",
    "          &(train[\"bsmt_qual\"].notnull())\n",
    "          &(train[\"bsmt_cond\"].notnull())\n",
    "          &(train[\"bsmtfin_type_2\"].notnull())\n",
    "          &(train[\"bsmtfin_type_1\"].notnull()),:][bsmt_string_list]\n"
   ]
  },
  {
   "cell_type": "code",
   "execution_count": null,
   "metadata": {},
   "outputs": [],
   "source": [
    "# checking and filling bsmtfin_sf_1.\n",
    "check_fill(train,\"bsmt_exposure\",\"bsmtfin_sf_1\",0)"
   ]
  },
  {
   "cell_type": "code",
   "execution_count": null,
   "metadata": {},
   "outputs": [],
   "source": [
    "# checking and filling bsmtfin_sf_2.\n",
    "check_fill(train,\"bsmt_exposure\",\"bsmtfin_sf_2\",0)"
   ]
  },
  {
   "cell_type": "code",
   "execution_count": null,
   "metadata": {},
   "outputs": [],
   "source": [
    "# checking and filling total_bsmt_sf.\n",
    "check_fill(train,\"bsmt_exposure\",\"total_bsmt_sf\",0)"
   ]
  },
  {
   "cell_type": "code",
   "execution_count": null,
   "metadata": {},
   "outputs": [],
   "source": [
    "# checking and filling bsmt_unf_sf.\n",
    "check_fill(train,\"bsmt_exposure\",\"bsmt_unf_sf\",0)"
   ]
  },
  {
   "cell_type": "code",
   "execution_count": null,
   "metadata": {},
   "outputs": [],
   "source": [
    "# checking and filling bsmt_half_bath.\n",
    "check_fill(train,\"bsmt_exposure\",\"bsmt_half_bath\",0)"
   ]
  },
  {
   "cell_type": "code",
   "execution_count": null,
   "metadata": {},
   "outputs": [],
   "source": [
    "# checking and filling bsmt_full_bath.\n",
    "check_fill(train,\"bsmt_exposure\",\"bsmt_full_bath\",0)"
   ]
  },
  {
   "cell_type": "code",
   "execution_count": null,
   "metadata": {},
   "outputs": [],
   "source": [
    "# checking and filling bsmt_cond.\n",
    "check_fill(train,\"bsmt_exposure\",\"bsmt_cond\",\"None\")"
   ]
  },
  {
   "cell_type": "code",
   "execution_count": null,
   "metadata": {},
   "outputs": [],
   "source": [
    "# checking and filling bsmt_qual.\n",
    "check_fill(train,\"bsmt_exposure\",\"bsmt_qual\",\"None\")"
   ]
  },
  {
   "cell_type": "code",
   "execution_count": null,
   "metadata": {},
   "outputs": [],
   "source": [
    "# checking and filling bsmtfin_type_1.\n",
    "check_fill(train,\"bsmt_exposure\",\"bsmtfin_type_1\",\"None\")"
   ]
  },
  {
   "cell_type": "code",
   "execution_count": null,
   "metadata": {},
   "outputs": [],
   "source": [
    "# checking and filling bsmtfin_type_2.\n",
    "check_fill(train,\"bsmt_exposure\",\"bsmtfin_type_2\",\"None\")"
   ]
  },
  {
   "cell_type": "code",
   "execution_count": null,
   "metadata": {},
   "outputs": [],
   "source": [
    "train[\"bsmt_exposure\"].value_counts()"
   ]
  },
  {
   "cell_type": "code",
   "execution_count": null,
   "metadata": {},
   "outputs": [],
   "source": [
    "# replacing NaN for bsmt_exposure with No\n",
    "train[\"bsmt_exposure\"].fillna(\"No\",inplace=True)"
   ]
  },
  {
   "cell_type": "code",
   "execution_count": null,
   "metadata": {},
   "outputs": [],
   "source": [
    "#checking dtype of filled cols.\n",
    "train[get_list(train,\"bsmt\")].dtypes"
   ]
  },
  {
   "cell_type": "markdown",
   "metadata": {},
   "source": [
    "# Cleaning all Garage related columns "
   ]
  },
  {
   "cell_type": "code",
   "execution_count": null,
   "metadata": {},
   "outputs": [],
   "source": [
    "#list of garage cols that where NaN values means no garage\n",
    "gar_string_list=[\"garage_qual\",\"garage_cond\",\"garage_type\",\"garage_finish\",\"garage_yr_blt\"]"
   ]
  },
  {
   "cell_type": "code",
   "execution_count": null,
   "metadata": {},
   "outputs": [],
   "source": [
    "# identifying the row that casues garage_type to have 1 less null value then the \n",
    "# rest of the garages columns where a NaN value means there is no garage.\n",
    "train.loc[(train[\"garage_yr_blt\"].isnull())&\n",
    "          (train[\"garage_qual\"].isnull())&\n",
    "          (train[\"garage_cond\"].isnull())&\n",
    "          (train[\"garage_finish\"].isnull())&\n",
    "          (train[\"garage_type\"].notnull()),:][gar_string_list]"
   ]
  },
  {
   "cell_type": "code",
   "execution_count": null,
   "metadata": {},
   "outputs": [],
   "source": [
    "# garage area mean of deteched garages. \n",
    "detchd_sf_mean=train.loc[train[\"garage_type\"]==\"Detchd\",:][\"garage_area\"].mean()"
   ]
  },
  {
   "cell_type": "code",
   "execution_count": null,
   "metadata": {},
   "outputs": [],
   "source": [
    "# checking and filling garage_cond with mean of detchd garage_area\n",
    "check_fill(train,\"garage_type\",\"garage_area\",detchd_sf_mean)"
   ]
  },
  {
   "cell_type": "code",
   "execution_count": null,
   "metadata": {},
   "outputs": [],
   "source": [
    "#checking which type of garage\n",
    "train.loc[train[\"garage_cars\"].isnull(),:][gar_string_list]"
   ]
  },
  {
   "cell_type": "code",
   "execution_count": null,
   "metadata": {},
   "outputs": [],
   "source": [
    "# garage car mode of deteched garages. \n",
    "detchd_car_mode=train.loc[train[\"garage_type\"]==\"Detchd\",:][\"garage_cars\"].mode()"
   ]
  },
  {
   "cell_type": "code",
   "execution_count": null,
   "metadata": {},
   "outputs": [],
   "source": [
    "# checking and filling garage_cond.\n",
    "check_fill(train,\"garage_type\",\"garage_cars\",detchd_car_mode)"
   ]
  },
  {
   "cell_type": "code",
   "execution_count": null,
   "metadata": {},
   "outputs": [],
   "source": [
    "# checking and filling garage_cond.\n",
    "check_fill(train,\"garage_type\",\"garage_cond\",\"None\")"
   ]
  },
  {
   "cell_type": "code",
   "execution_count": null,
   "metadata": {},
   "outputs": [],
   "source": [
    "# checking and filling garage_cond.\n",
    "check_fill(train,\"garage_type\",\"garage_finish\",\"None\")"
   ]
  },
  {
   "cell_type": "code",
   "execution_count": null,
   "metadata": {},
   "outputs": [],
   "source": [
    "# checking and filling garage_cond.\n",
    "check_fill(train,\"garage_type\",\"garage_yr_blt\",0)"
   ]
  },
  {
   "cell_type": "code",
   "execution_count": null,
   "metadata": {},
   "outputs": [],
   "source": [
    "# checking and filling garage_cond.\n",
    "check_fill(train,\"garage_type\",\"garage_qual\",\"None\")"
   ]
  },
  {
   "cell_type": "code",
   "execution_count": null,
   "metadata": {},
   "outputs": [],
   "source": [
    "# replacing NaN for garage_cond with 0\n",
    "train[\"garage_type\"].fillna(\"None\",inplace=True)"
   ]
  },
  {
   "cell_type": "code",
   "execution_count": null,
   "metadata": {},
   "outputs": [],
   "source": [
    "#checking dtype of filled cols.\n",
    "train[get_list(train,\"garage\")].dtypes"
   ]
  },
  {
   "cell_type": "markdown",
   "metadata": {},
   "source": [
    "# Cleaning Lot Frontage"
   ]
  },
  {
   "cell_type": "code",
   "execution_count": null,
   "metadata": {},
   "outputs": [],
   "source": [
    "# filtering for NaN values in Lot frontage\n",
    "train.loc[train[\"lot_frontage\"].isnull(),:].head()"
   ]
  },
  {
   "cell_type": "code",
   "execution_count": null,
   "metadata": {},
   "outputs": [],
   "source": [
    "# #filling NaN values with 0\n",
    "train[\"lot_frontage\"].fillna(0,inplace=True)"
   ]
  },
  {
   "cell_type": "code",
   "execution_count": null,
   "metadata": {
    "scrolled": true
   },
   "outputs": [],
   "source": [
    "train.isnull().sum().sort_values().tail(8)"
   ]
  },
  {
   "cell_type": "code",
   "execution_count": null,
   "metadata": {},
   "outputs": [],
   "source": [
    "def fill_null(df,list_to_fill,fill_with):\n",
    "    \"\"\"function that fills NaN values in columns from a list\"\"\"\n",
    "    [df[i].fillna(fill_with,inplace=True) for i in list_to_fill]"
   ]
  },
  {
   "cell_type": "code",
   "execution_count": null,
   "metadata": {},
   "outputs": [],
   "source": [
    "# remaing NaN values cannot be deduced from the other datas.\n",
    "remaing_null_strings=[\"mas_vnr_type\",\"fireplace_qu\",\"fence\",\"alley\",\"misc_feature\",\"pool_qc\"]\n",
    "\n",
    "# filling non numeric column's NaN with None.\n",
    "fill_null(train,remaing_null_strings,\"None\")\n",
    "\n",
    "#filling numeric colum NaN with 0\n",
    "fill_null(train,[\"mas_vnr_area\",\"lot_frontage\"],0)"
   ]
  },
  {
   "cell_type": "code",
   "execution_count": null,
   "metadata": {},
   "outputs": [],
   "source": [
    "# Checking for NaN values\n",
    "train.isnull().sum().sort_values().tail()\n"
   ]
  },
  {
   "cell_type": "markdown",
   "metadata": {},
   "source": [
    "# ADD GET DUMMIES SAVE ONE WITH AND ONE WITHOUT "
   ]
  },
  {
   "cell_type": "markdown",
   "metadata": {},
   "source": [
    "# Cleaning Test dataset"
   ]
  },
  {
   "cell_type": "code",
   "execution_count": null,
   "metadata": {},
   "outputs": [],
   "source": [
    "test.head()"
   ]
  },
  {
   "cell_type": "code",
   "execution_count": null,
   "metadata": {},
   "outputs": [],
   "source": [
    "test.shape"
   ]
  },
  {
   "cell_type": "code",
   "execution_count": null,
   "metadata": {},
   "outputs": [],
   "source": [
    "test.dtypes"
   ]
  },
  {
   "cell_type": "code",
   "execution_count": null,
   "metadata": {},
   "outputs": [],
   "source": [
    "test.columns=test.columns.str.replace(\" \",\"_\").str.lower()\n",
    "test.columns"
   ]
  },
  {
   "cell_type": "code",
   "execution_count": null,
   "metadata": {},
   "outputs": [],
   "source": [
    "test.shape"
   ]
  },
  {
   "cell_type": "code",
   "execution_count": null,
   "metadata": {},
   "outputs": [],
   "source": [
    "test.isnull().sum().sort_values().tail(20)"
   ]
  },
  {
   "cell_type": "markdown",
   "metadata": {},
   "source": [
    "# Cleaning Basments NaN values"
   ]
  },
  {
   "cell_type": "code",
   "execution_count": null,
   "metadata": {},
   "outputs": [],
   "source": [
    "# identifying that all 25 rows in bsmt that have NaN are the same rows. \n",
    "test.loc[(test[\"bsmt_exposure\"].isnull())\n",
    "          &(test[\"bsmt_qual\"].isnull())\n",
    "          &(test[\"bsmt_cond\"].isnull())\n",
    "          &(test[\"bsmtfin_type_2\"].isnull())\n",
    "          &(test[\"bsmtfin_type_1\"].isnull()),:][bsmt_string_list].shape\n"
   ]
  },
  {
   "cell_type": "code",
   "execution_count": null,
   "metadata": {},
   "outputs": [],
   "source": [
    "#filling NaN values in all bsmt cols with None as they non numeric \n",
    "fill_null(test,bsmt_string_list,\"None\")"
   ]
  },
  {
   "cell_type": "code",
   "execution_count": null,
   "metadata": {},
   "outputs": [],
   "source": [
    "#checking dtypes\n",
    "test[bsmt_string_list].dtypes"
   ]
  },
  {
   "cell_type": "markdown",
   "metadata": {},
   "source": [
    "# Cleaning Garage NaN values"
   ]
  },
  {
   "cell_type": "code",
   "execution_count": null,
   "metadata": {},
   "outputs": [],
   "source": [
    "garage_col_list=get_list(test,\"garage\")"
   ]
  },
  {
   "cell_type": "code",
   "execution_count": null,
   "metadata": {},
   "outputs": [],
   "source": [
    "#adding id to garage_col_list\n",
    "garage_col_list.append(\"id\")\n",
    "\n",
    "\n",
    "# identifying the row that casues garage_type to have 1 less null value then the \n",
    "# rest of the garages columns where a NaN value means there is no garage.\n",
    "test.loc[(test[\"garage_yr_blt\"].isnull())&\n",
    "          (test[\"garage_qual\"].isnull())&\n",
    "          (test[\"garage_cond\"].isnull())&\n",
    "          (test[\"garage_finish\"].isnull())&\n",
    "          (test[\"garage_type\"].notnull()),:][garage_col_list]"
   ]
  },
  {
   "cell_type": "code",
   "execution_count": null,
   "metadata": {},
   "outputs": [],
   "source": [
    "#creating df with all garage type == detchd and cars==1\n",
    "\n",
    "test_gar_car_detchd=test.loc[(test[\"garage_cars\"]==1)&(test[\"garage_type\"]==\"Detchd\"),:][garage_col_list]"
   ]
  },
  {
   "cell_type": "code",
   "execution_count": null,
   "metadata": {},
   "outputs": [],
   "source": [
    "#finding out the mode of each col in garages.\n",
    "test_gar_car_detchd.describe(include=\"all\")"
   ]
  },
  {
   "cell_type": "code",
   "execution_count": null,
   "metadata": {},
   "outputs": [],
   "source": [
    "# test_gar_car_detchd[\"garage_finish\"].value_counts()[0]"
   ]
  },
  {
   "cell_type": "code",
   "execution_count": null,
   "metadata": {},
   "outputs": [],
   "source": [
    "#filling row with NaN values for garage type,year built, finish, quality and condition with either the mean or mode from the train dataset. \n",
    "train_gar_car_detchd=train.loc[(train[\"garage_cars\"]==1)&(train[\"garage_type\"]==\"Detchd\"),:][garage_col_list]\n",
    "\n",
    "\n",
    "test.loc[test[\"id\"]==1357,\"garage_finish\"]=train_gar_car_detchd[\"garage_finish\"].value_counts()[0]\n",
    "test.loc[test[\"id\"]==1357,\"garage_qual\"]=train_gar_car_detchd[\"garage_qual\"].value_counts()[0]\n",
    "test.loc[test[\"id\"]==1357,\"garage_cond\"]=train_gar_car_detchd[\"garage_cond\"].value_counts()[0]\n",
    "test.loc[test[\"id\"]==1357,\"garage_yr_blt\"]=train_gar_car_detchd[\"garage_yr_blt\"].mean()"
   ]
  },
  {
   "cell_type": "markdown",
   "metadata": {},
   "source": [
    "## COMMENT\n",
    "Because the numbers of varibles imputed are very low less then 1%, data leakage would be significant. As compared to if I were to impute NaN values with mean or mode of features, without doing a train test split in the start, that would lead into a more significant data leakage. "
   ]
  },
  {
   "cell_type": "code",
   "execution_count": null,
   "metadata": {},
   "outputs": [],
   "source": [
    "#checking \n",
    "test.loc[test[\"id\"]==1357,:][garage_col_list]"
   ]
  },
  {
   "cell_type": "code",
   "execution_count": null,
   "metadata": {},
   "outputs": [],
   "source": [
    "# identifying the row that casues garage_type to have 1 less null value then the \n",
    "# rest of the garages columns where a NaN value means there is no garage.\n",
    "test.loc[(test[\"garage_yr_blt\"].isnull())&\n",
    "          (test[\"garage_qual\"].isnull())&\n",
    "          (test[\"garage_cond\"].isnull())&\n",
    "          (test[\"garage_finish\"].isnull())&\n",
    "          (test[\"garage_type\"].isnull()),:][gar_string_list].shape"
   ]
  },
  {
   "cell_type": "code",
   "execution_count": null,
   "metadata": {},
   "outputs": [],
   "source": [
    "fill_null(test,[\"garage_qual\",\"garage_cond\",\"garage_finish\",\"garage_type\"],\"None\")\n",
    "fill_null(test,[\"garage_yr_blt\"],0)"
   ]
  },
  {
   "cell_type": "code",
   "execution_count": null,
   "metadata": {},
   "outputs": [],
   "source": [
    "#checking dtypes\n",
    "test[garage_col_list].dtypes"
   ]
  },
  {
   "cell_type": "markdown",
   "metadata": {},
   "source": [
    "# Cleaning electrical "
   ]
  },
  {
   "cell_type": "code",
   "execution_count": null,
   "metadata": {},
   "outputs": [],
   "source": [
    "#exploring electrical \n",
    "test[\"electrical\"].describe(include=\"all\")\n"
   ]
  },
  {
   "cell_type": "code",
   "execution_count": null,
   "metadata": {},
   "outputs": [],
   "source": [
    "# assigning the mode of of electrical \n",
    "mode_elect=test[\"electrical\"].describe(include=\"all\")[2]\n",
    "mode_elect"
   ]
  },
  {
   "cell_type": "code",
   "execution_count": null,
   "metadata": {},
   "outputs": [],
   "source": [
    "#filling the NaN in electrical with mode.\n",
    "test[\"electrical\"].fillna(mode_elect,inplace=True)"
   ]
  },
  {
   "cell_type": "code",
   "execution_count": null,
   "metadata": {},
   "outputs": [],
   "source": [
    "#checking dtypes\n",
    "test[\"electrical\"].dtypes"
   ]
  },
  {
   "cell_type": "markdown",
   "metadata": {},
   "source": [
    "# Cleaning the remaining of the cols "
   ]
  },
  {
   "cell_type": "code",
   "execution_count": null,
   "metadata": {},
   "outputs": [],
   "source": [
    "# remaing NaN values cannot be deduced from the other datas.\n",
    "remaing_null_strings=[\"mas_vnr_type\",\"fireplace_qu\",\"fence\",\"alley\",\"misc_feature\",\"pool_qc\"]\n",
    "\n",
    "# filling non numeric column's NaN with None.\n",
    "fill_null(test,remaing_null_strings,\"None\")\n",
    "\n",
    "#filling numeric colum NaN with 0\n",
    "fill_null(test,[\"mas_vnr_area\",\"lot_frontage\"],0)"
   ]
  },
  {
   "cell_type": "code",
   "execution_count": null,
   "metadata": {},
   "outputs": [],
   "source": [
    "#checking for NaN values\n",
    "test.isnull().sum().sort_values().tail()"
   ]
  },
  {
   "cell_type": "code",
   "execution_count": null,
   "metadata": {},
   "outputs": [],
   "source": [
    "#checking dtypes\n",
    "test[remaing_null_strings].dtypes"
   ]
  },
  {
   "cell_type": "code",
   "execution_count": null,
   "metadata": {},
   "outputs": [],
   "source": [
    "#checking dtypes\n",
    "test[[\"mas_vnr_area\",\"lot_frontage\"]].dtypes"
   ]
  },
  {
   "cell_type": "code",
   "execution_count": null,
   "metadata": {},
   "outputs": [],
   "source": [
    "test.describe(include=\"all\") "
   ]
  },
  {
   "cell_type": "code",
   "execution_count": null,
   "metadata": {},
   "outputs": [],
   "source": [
    "train.head()[\"saleprice\"]"
   ]
  },
  {
   "cell_type": "code",
   "execution_count": null,
   "metadata": {},
   "outputs": [],
   "source": [
    "# get list of all object in train \n",
    "train_object_list=[]\n",
    "for i in train.columns:\n",
    "    if train[i].dtypes == object and i != \"saleprice\":\n",
    "        train_object_list.append(i)\n",
    "# get list of all object in test\n",
    "test_object_list=[]\n",
    "for i in test.columns:\n",
    "    if test[i].dtypes == object:\n",
    "        test_object_list.append(i)\n"
   ]
  },
  {
   "cell_type": "code",
   "execution_count": null,
   "metadata": {},
   "outputs": [],
   "source": [
    "test[test_object_list].describe(include=\"all\")[1:2]"
   ]
  },
  {
   "cell_type": "code",
   "execution_count": null,
   "metadata": {},
   "outputs": [],
   "source": [
    "train[train_object_list].describe(include=\"all\")[1:2]"
   ]
  },
  {
   "cell_type": "code",
   "execution_count": null,
   "metadata": {},
   "outputs": [],
   "source": [
    "test_id=test[[\"id\"]]"
   ]
  },
  {
   "cell_type": "code",
   "execution_count": null,
   "metadata": {},
   "outputs": [],
   "source": [
    "train.to_csv(\"../datasets/train_c.csv\")\n",
    "test.to_csv(\"../datasets/test_c.csv\")\n",
    "test_id.to_csv(\"../datasets/test_id.csv\")"
   ]
  }
 ],
 "metadata": {
  "kernelspec": {
   "display_name": "Python 3",
   "language": "python",
   "name": "python3"
  },
  "language_info": {
   "codemirror_mode": {
    "name": "ipython",
    "version": 3
   },
   "file_extension": ".py",
   "mimetype": "text/x-python",
   "name": "python",
   "nbconvert_exporter": "python",
   "pygments_lexer": "ipython3",
   "version": "3.8.3"
  }
 },
 "nbformat": 4,
 "nbformat_minor": 2
}
